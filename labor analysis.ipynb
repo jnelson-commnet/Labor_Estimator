{
 "cells": [
  {
   "cell_type": "code",
   "execution_count": null,
   "metadata": {
    "collapsed": true
   },
   "outputs": [],
   "source": [
    "import pandas as pd\n",
    "import os\n",
    "import numpy as np\n",
    "import sys"
   ]
  },
  {
   "cell_type": "code",
   "execution_count": null,
   "metadata": {
    "collapsed": false
   },
   "outputs": [],
   "source": [
    "# this is a sheet of labor data received\n",
    "labor = pd.read_excel(\"labordata.xlsx\", header=0)"
   ]
  },
  {
   "cell_type": "code",
   "execution_count": null,
   "metadata": {
    "collapsed": true
   },
   "outputs": [],
   "source": [
    "# this is the qty and fulfillment status by MO\n",
    "modata = pd.read_excel(\"modata.xlsx\", header=0)"
   ]
  },
  {
   "cell_type": "code",
   "execution_count": null,
   "metadata": {
    "collapsed": false
   },
   "outputs": [],
   "source": [
    "# creating a total labor column for each line\n",
    "labor['minConvert'] = labor['mins']/60\n",
    "labor['timeCalc'] = labor['hours'] + labor['minConvert']"
   ]
  },
  {
   "cell_type": "code",
   "execution_count": null,
   "metadata": {
    "collapsed": false
   },
   "outputs": [],
   "source": [
    "# only need finished MOs\n",
    "completeLabor = labor[labor['Status'] == 'Done'].copy()"
   ]
  },
  {
   "cell_type": "code",
   "execution_count": null,
   "metadata": {
    "collapsed": false
   },
   "outputs": [],
   "source": [
    "completeLabor.drop(['hours','mins','Status','minConvert'], axis=1, inplace=True)"
   ]
  },
  {
   "cell_type": "code",
   "execution_count": null,
   "metadata": {
    "collapsed": false,
    "scrolled": true
   },
   "outputs": [],
   "source": [
    "# summing the useful columns\n",
    "completeLabor = completeLabor.groupby(['MO','Part']).sum()\n",
    "modata = modata.groupby(['MO','Part']).sum()\n",
    "completeLabor.reset_index(inplace=True)\n",
    "modata.reset_index(inplace=True)"
   ]
  },
  {
   "cell_type": "code",
   "execution_count": null,
   "metadata": {
    "collapsed": false
   },
   "outputs": [],
   "source": [
    "# creates a new dataFrame with both labor used per order and qty of product created\n",
    "combinedData = pd.DataFrame()\n",
    "for part in completeLabor['Part'].unique():\n",
    "    laborPart = completeLabor[completeLabor['Part'] == part].copy()\n",
    "    moPart = modata[modata['Part'] == part].copy()\n",
    "    if len(moPart) > 0:\n",
    "        for mo in laborPart['MO'].unique():\n",
    "            laborMO = laborPart[laborPart['MO'] == mo].copy()\n",
    "            moMO = moPart[moPart['MO'] == mo].copy()\n",
    "            if len(moMO) > 0:\n",
    "                holdingDF = pd.merge(laborMO.copy(), moMO[['Part','QtyFulf']].copy(), how='left', on='Part')\n",
    "                combinedData = combinedData.copy().append(holdingDF.copy())\n",
    "            else:\n",
    "                print(mo, part)\n",
    "    else:\n",
    "        print(part)\n",
    "\n"
   ]
  },
  {
   "cell_type": "code",
   "execution_count": null,
   "metadata": {
    "collapsed": false
   },
   "outputs": [],
   "source": [
    "# calculate the labor per panel\n",
    "combinedData['HoursPerUnit'] = combinedData['timeCalc'] / combinedData['QtyFulf']"
   ]
  },
  {
   "cell_type": "code",
   "execution_count": null,
   "metadata": {
    "collapsed": false
   },
   "outputs": [],
   "source": [
    "# save it\n",
    "writer = pd.ExcelWriter('result.xlsx')\n",
    "combinedData.to_excel(writer, sheet_name='sheet', index=False)\n",
    "writer.save()"
   ]
  },
  {
   "cell_type": "code",
   "execution_count": null,
   "metadata": {
    "collapsed": true
   },
   "outputs": [],
   "source": []
  }
 ],
 "metadata": {
  "kernelspec": {
   "display_name": "Python [Root]",
   "language": "python",
   "name": "Python [Root]"
  },
  "language_info": {
   "codemirror_mode": {
    "name": "ipython",
    "version": 3
   },
   "file_extension": ".py",
   "mimetype": "text/x-python",
   "name": "python",
   "nbconvert_exporter": "python",
   "pygments_lexer": "ipython3",
   "version": "3.5.2"
  }
 },
 "nbformat": 4,
 "nbformat_minor": 0
}
